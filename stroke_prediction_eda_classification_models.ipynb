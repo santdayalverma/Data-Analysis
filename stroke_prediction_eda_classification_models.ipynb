{
  "metadata": {
    "kernelspec": {
      "language": "python",
      "display_name": "Python 3",
      "name": "python3"
    },
    "language_info": {
      "name": "python",
      "version": "3.7.9",
      "mimetype": "text/x-python",
      "codemirror_mode": {
        "name": "ipython",
        "version": 3
      },
      "pygments_lexer": "ipython3",
      "nbconvert_exporter": "python",
      "file_extension": ".py"
    },
    "colab": {
      "provenance": []
    }
  },
  "nbformat_minor": 0,
  "nbformat": 4,
  "cells": [
    {
      "cell_type": "markdown",
      "source": [
        "<h1 style=\"background-color:skyblue;font-family:Georgia;font-size:350%;text-align:center\">Introduction</h1>\n",
        "<h1 style=\"font-family:Georgia;font-size:175%;text-align:center\">Through this data we will try to know more about strokes and Make a model to try to predict strokes</h1>\n",
        "<h1 style=\"font-family:Georgia;font-size:150%;text-align:left\">first what is a stroke?</h1>\n",
        "\n",
        "*  Stroke is a medical emergency. A stroke occurs when blood flow to a part of your brain is interrupted or reduced, preventing brain tissue from getting oxygen and nutrients. Brain cells begin to die within minutes \n",
        "\n",
        "<h1 style=\"font-family:Georgia;font-size:150%;text-align:left\">Risk factors for having a stroke include:</h1>\n",
        "\n",
        "* Age: People aged 55 years and over\n",
        "\n",
        "* Hypertension: if the systolic pressure is 140 mm Hg or more, or the diastolic pressure is 90 mm Hg or more\n",
        "\n",
        "* Hypercholesterolemia: If the cholesterol level in the blood is 200 milligrams per deciliter\n",
        "\n",
        "* Smoking\n",
        "\n",
        "* Diabetes\n",
        "\n",
        "* Obesity: if the body mass index (BMI) is 30 or more\n",
        "\n"
      ],
      "metadata": {
        "id": "C5iWVTonA9Zq"
      }
    },
    {
      "cell_type": "markdown",
      "source": [
        "![](https://i.makeagif.com/media/11-12-2015/kxoOxr.gif)"
      ],
      "metadata": {
        "id": "dn9yCyJcA9Zz"
      }
    },
    {
      "cell_type": "markdown",
      "source": [
        "<h1 style=\"background-color:skyblue;font-family:Georgia;font-size:350%;text-align:center\">Import</h1>\n"
      ],
      "metadata": {
        "id": "DynF5ZG-A9Z0"
      }
    },
    {
      "cell_type": "code",
      "source": [
        "import numpy as np \n",
        "import pandas as pd \n",
        "import os\n",
        "for dirname, _, filenames in os.walk('/kaggle/input'):\n",
        "    for filename in filenames:\n",
        "        print(os.path.join(dirname, filename))\n",
        "import matplotlib.pyplot as plt\n",
        "plt.style.use('ggplot')\n",
        "import seaborn as sns\n",
        "import plotly.express as px\n",
        "import plotly.graph_objects as go\n",
        "from sklearn.model_selection import train_test_split\n",
        "from sklearn.preprocessing import StandardScaler\n",
        "from sklearn.ensemble import AdaBoostClassifier\n",
        "from sklearn.tree import DecisionTreeClassifier\n",
        "from sklearn.model_selection import cross_val_score\n",
        "from sklearn.linear_model import LogisticRegression\n",
        "from sklearn.ensemble import GradientBoostingClassifier\n",
        "from sklearn.svm import SVC\n",
        "from sklearn.ensemble import RandomForestClassifier\n",
        "from sklearn.ensemble import GradientBoostingClassifier\n",
        "from sklearn.neural_network import MLPClassifier\n",
        "from sklearn.metrics import accuracy_score\n",
        "from sklearn.metrics import confusion_matrix\n",
        "from sklearn.metrics import classification_report"
      ],
      "metadata": {
        "_uuid": "8f2839f25d086af736a60e9eeb907d3b93b6e0e5",
        "_cell_guid": "b1076dfc-b9ad-4769-8c92-a6c4dae69d19",
        "execution": {
          "iopub.status.busy": "2022-10-01T13:20:36.228012Z",
          "iopub.execute_input": "2022-10-01T13:20:36.228497Z",
          "iopub.status.idle": "2022-10-01T13:20:38.289413Z",
          "shell.execute_reply.started": "2022-10-01T13:20:36.228384Z",
          "shell.execute_reply": "2022-10-01T13:20:38.288483Z"
        },
        "trusted": true,
        "id": "JIaBMlGrA9Z3",
        "outputId": "c603244c-e5e2-4fd2-da23-e92d36d160b4"
      },
      "execution_count": null,
      "outputs": [
        {
          "name": "stdout",
          "text": "/kaggle/input/heart-disease-and-stroke-prevention/dataset.csv\n/kaggle/input/stroke-prediction-dataset/healthcare-dataset-stroke-data.csv\n/kaggle/input/noshowappointments/KaggleV2-May-2016.csv\n",
          "output_type": "stream"
        }
      ]
    },
    {
      "cell_type": "markdown",
      "source": [
        "<h1 style=\"background-color:skyblue;font-family:Georgia;font-size:350%;text-align:center\">Read & Explore</h1>\n"
      ],
      "metadata": {
        "id": "q9GJWW_1A9Z9"
      }
    },
    {
      "cell_type": "code",
      "source": [
        "df=pd.read_csv('../input/stroke-prediction-dataset/healthcare-dataset-stroke-data.csv')\n",
        "df"
      ],
      "metadata": {
        "_kg_hide-input": true,
        "execution": {
          "iopub.status.busy": "2022-10-01T13:20:39.421688Z",
          "iopub.execute_input": "2022-10-01T13:20:39.422088Z",
          "iopub.status.idle": "2022-10-01T13:20:39.492415Z",
          "shell.execute_reply.started": "2022-10-01T13:20:39.422052Z",
          "shell.execute_reply": "2022-10-01T13:20:39.491586Z"
        },
        "trusted": true,
        "id": "RePLbZUQA9Z-",
        "outputId": "2b5ba106-dcd2-4b80-88bb-4c0443c484b2"
      },
      "execution_count": null,
      "outputs": [
        {
          "execution_count": 2,
          "output_type": "execute_result",
          "data": {
            "text/plain": "         id  gender   age  hypertension  heart_disease ever_married  \\\n0      9046    Male  67.0             0              1          Yes   \n1     51676  Female  61.0             0              0          Yes   \n2     31112    Male  80.0             0              1          Yes   \n3     60182  Female  49.0             0              0          Yes   \n4      1665  Female  79.0             1              0          Yes   \n...     ...     ...   ...           ...            ...          ...   \n5105  18234  Female  80.0             1              0          Yes   \n5106  44873  Female  81.0             0              0          Yes   \n5107  19723  Female  35.0             0              0          Yes   \n5108  37544    Male  51.0             0              0          Yes   \n5109  44679  Female  44.0             0              0          Yes   \n\n          work_type Residence_type  avg_glucose_level   bmi   smoking_status  \\\n0           Private          Urban             228.69  36.6  formerly smoked   \n1     Self-employed          Rural             202.21   NaN     never smoked   \n2           Private          Rural             105.92  32.5     never smoked   \n3           Private          Urban             171.23  34.4           smokes   \n4     Self-employed          Rural             174.12  24.0     never smoked   \n...             ...            ...                ...   ...              ...   \n5105        Private          Urban              83.75   NaN     never smoked   \n5106  Self-employed          Urban             125.20  40.0     never smoked   \n5107  Self-employed          Rural              82.99  30.6     never smoked   \n5108        Private          Rural             166.29  25.6  formerly smoked   \n5109       Govt_job          Urban              85.28  26.2          Unknown   \n\n      stroke  \n0          1  \n1          1  \n2          1  \n3          1  \n4          1  \n...      ...  \n5105       0  \n5106       0  \n5107       0  \n5108       0  \n5109       0  \n\n[5110 rows x 12 columns]",
            "text/html": "<div>\n<style scoped>\n    .dataframe tbody tr th:only-of-type {\n        vertical-align: middle;\n    }\n\n    .dataframe tbody tr th {\n        vertical-align: top;\n    }\n\n    .dataframe thead th {\n        text-align: right;\n    }\n</style>\n<table border=\"1\" class=\"dataframe\">\n  <thead>\n    <tr style=\"text-align: right;\">\n      <th></th>\n      <th>id</th>\n      <th>gender</th>\n      <th>age</th>\n      <th>hypertension</th>\n      <th>heart_disease</th>\n      <th>ever_married</th>\n      <th>work_type</th>\n      <th>Residence_type</th>\n      <th>avg_glucose_level</th>\n      <th>bmi</th>\n      <th>smoking_status</th>\n      <th>stroke</th>\n    </tr>\n  </thead>\n  <tbody>\n    <tr>\n      <th>0</th>\n      <td>9046</td>\n      <td>Male</td>\n      <td>67.0</td>\n      <td>0</td>\n      <td>1</td>\n      <td>Yes</td>\n      <td>Private</td>\n      <td>Urban</td>\n      <td>228.69</td>\n      <td>36.6</td>\n      <td>formerly smoked</td>\n      <td>1</td>\n    </tr>\n    <tr>\n      <th>1</th>\n      <td>51676</td>\n      <td>Female</td>\n      <td>61.0</td>\n      <td>0</td>\n      <td>0</td>\n      <td>Yes</td>\n      <td>Self-employed</td>\n      <td>Rural</td>\n      <td>202.21</td>\n      <td>NaN</td>\n      <td>never smoked</td>\n      <td>1</td>\n    </tr>\n    <tr>\n      <th>2</th>\n      <td>31112</td>\n      <td>Male</td>\n      <td>80.0</td>\n      <td>0</td>\n      <td>1</td>\n      <td>Yes</td>\n      <td>Private</td>\n      <td>Rural</td>\n      <td>105.92</td>\n      <td>32.5</td>\n      <td>never smoked</td>\n      <td>1</td>\n    </tr>\n    <tr>\n      <th>3</th>\n      <td>60182</td>\n      <td>Female</td>\n      <td>49.0</td>\n      <td>0</td>\n      <td>0</td>\n      <td>Yes</td>\n      <td>Private</td>\n      <td>Urban</td>\n      <td>171.23</td>\n      <td>34.4</td>\n      <td>smokes</td>\n      <td>1</td>\n    </tr>\n    <tr>\n      <th>4</th>\n      <td>1665</td>\n      <td>Female</td>\n      <td>79.0</td>\n      <td>1</td>\n      <td>0</td>\n      <td>Yes</td>\n      <td>Self-employed</td>\n      <td>Rural</td>\n      <td>174.12</td>\n      <td>24.0</td>\n      <td>never smoked</td>\n      <td>1</td>\n    </tr>\n    <tr>\n      <th>...</th>\n      <td>...</td>\n      <td>...</td>\n      <td>...</td>\n      <td>...</td>\n      <td>...</td>\n      <td>...</td>\n      <td>...</td>\n      <td>...</td>\n      <td>...</td>\n      <td>...</td>\n      <td>...</td>\n      <td>...</td>\n    </tr>\n    <tr>\n      <th>5105</th>\n      <td>18234</td>\n      <td>Female</td>\n      <td>80.0</td>\n      <td>1</td>\n      <td>0</td>\n      <td>Yes</td>\n      <td>Private</td>\n      <td>Urban</td>\n      <td>83.75</td>\n      <td>NaN</td>\n      <td>never smoked</td>\n      <td>0</td>\n    </tr>\n    <tr>\n      <th>5106</th>\n      <td>44873</td>\n      <td>Female</td>\n      <td>81.0</td>\n      <td>0</td>\n      <td>0</td>\n      <td>Yes</td>\n      <td>Self-employed</td>\n      <td>Urban</td>\n      <td>125.20</td>\n      <td>40.0</td>\n      <td>never smoked</td>\n      <td>0</td>\n    </tr>\n    <tr>\n      <th>5107</th>\n      <td>19723</td>\n      <td>Female</td>\n      <td>35.0</td>\n      <td>0</td>\n      <td>0</td>\n      <td>Yes</td>\n      <td>Self-employed</td>\n      <td>Rural</td>\n      <td>82.99</td>\n      <td>30.6</td>\n      <td>never smoked</td>\n      <td>0</td>\n    </tr>\n    <tr>\n      <th>5108</th>\n      <td>37544</td>\n      <td>Male</td>\n      <td>51.0</td>\n      <td>0</td>\n      <td>0</td>\n      <td>Yes</td>\n      <td>Private</td>\n      <td>Rural</td>\n      <td>166.29</td>\n      <td>25.6</td>\n      <td>formerly smoked</td>\n      <td>0</td>\n    </tr>\n    <tr>\n      <th>5109</th>\n      <td>44679</td>\n      <td>Female</td>\n      <td>44.0</td>\n      <td>0</td>\n      <td>0</td>\n      <td>Yes</td>\n      <td>Govt_job</td>\n      <td>Urban</td>\n      <td>85.28</td>\n      <td>26.2</td>\n      <td>Unknown</td>\n      <td>0</td>\n    </tr>\n  </tbody>\n</table>\n<p>5110 rows × 12 columns</p>\n</div>"
          },
          "metadata": {}
        }
      ]
    },
    {
      "cell_type": "code",
      "source": [
        "df.info()"
      ],
      "metadata": {
        "_kg_hide-input": true,
        "trusted": true,
        "id": "ocRwjuDhA9Z-"
      },
      "execution_count": null,
      "outputs": []
    },
    {
      "cell_type": "code",
      "source": [
        "df.describe()"
      ],
      "metadata": {
        "_kg_hide-input": true,
        "trusted": true,
        "id": "8BHx0f38A9Z_"
      },
      "execution_count": null,
      "outputs": []
    },
    {
      "cell_type": "markdown",
      "source": [
        "<h1 style=\"font-family:Georgia;font-size:175%;text-align:center\">Variance features Distribution</h1>\n"
      ],
      "metadata": {
        "id": "8RwBsyEcA9Z_"
      }
    },
    {
      "cell_type": "code",
      "source": [
        "fig, axes = plt.subplots(nrows=2, ncols=2, figsize=(12, 10))\n",
        "df.plot(kind=\"hist\", y=\"age\", bins=70, color=\"b\", ax=axes[0][0])\n",
        "df.plot(kind=\"hist\", y=\"bmi\", bins=100, color=\"r\", ax=axes[0][1])\n",
        "df.plot(kind=\"hist\", y=\"heart_disease\", bins=6, color=\"g\", ax=axes[1][0])\n",
        "df.plot(kind=\"hist\", y=\"avg_glucose_level\", bins=100, color=\"orange\", ax=axes[1][1])\n",
        "plt.show()"
      ],
      "metadata": {
        "_kg_hide-input": true,
        "execution": {
          "iopub.status.busy": "2022-10-01T13:21:11.703180Z",
          "iopub.execute_input": "2022-10-01T13:21:11.703934Z",
          "iopub.status.idle": "2022-10-01T13:21:13.065094Z",
          "shell.execute_reply.started": "2022-10-01T13:21:11.703884Z",
          "shell.execute_reply": "2022-10-01T13:21:13.063937Z"
        },
        "trusted": true,
        "id": "XE7NfHLoA9Z_",
        "outputId": "af347b01-a8e7-4e45-fbd7-ea89e73bfc61"
      },
      "execution_count": null,
      "outputs": [
        {
          "output_type": "display_data",
          "data": {
            "text/plain": "<Figure size 864x720 with 4 Axes>",
            "image/png": "[encoded data removed]"
          },
          "metadata": {}
        }
      ]
    },
    {
      "cell_type": "markdown",
      "source": [
        "* We have good distribution for age \n",
        "* I think we have outliers in bmi \n",
        "* Avg glucose distribution is reasonable because the normal avg of blood in sugar is less than 140 , that may be not good this feature will not be helpful to know if diabetes have correlation between diabetes and strokes"
      ],
      "metadata": {
        "id": "0VMWdkotA9aA"
      }
    },
    {
      "cell_type": "markdown",
      "source": [
        "<h1 style=\"font-family:Georgia;font-size:175%;text-align:center\">Data Summary ( Check for missing values ) \n",
        "</h1>\n"
      ],
      "metadata": {
        "id": "Fr19oZW8A9aA"
      }
    },
    {
      "cell_type": "code",
      "source": [
        "print (\"Rows     : \" , df.shape[0])\n",
        "print (\"Columns  : \" , df.shape[1])\n",
        "print (\"\\nFeatures : \\n\" , df.columns.tolist())\n",
        "print (\"\\nMissing values :  \", df.isnull().sum().values.sum())\n",
        "print (\"\\nUnique values :  \\n\",df.nunique())"
      ],
      "metadata": {
        "trusted": true,
        "id": "bSUDvkUsA9aC"
      },
      "execution_count": null,
      "outputs": []
    },
    {
      "cell_type": "markdown",
      "source": [
        "<h1 style=\"font-family:Georgia;font-size:175%;text-align:center\">Data Visualization</h1>\n"
      ],
      "metadata": {
        "id": "bSa_DpYBA9aC"
      }
    },
    {
      "cell_type": "markdown",
      "source": [
        "<h1 style=\"font-family:Georgia;font-size:175%;text-align:left\">Stroke Pie Chart</h1>\n"
      ],
      "metadata": {
        "id": "rfl7rlHLA9aD"
      }
    },
    {
      "cell_type": "code",
      "source": [
        "\n",
        "labels =df['stroke'].value_counts(sort = True).index\n",
        "sizes = df['stroke'].value_counts(sort = True)\n",
        "\n",
        "colors = [\"lightblue\",\"red\"]\n",
        "explode = (0.05,0) \n",
        " \n",
        "plt.figure(figsize=(7,7))\n",
        "plt.pie(sizes, explode=explode, labels=labels, colors=colors, autopct='%1.1f%%', shadow=True, startangle=90,)\n",
        "\n",
        "plt.title('Customer Churn Breakdown')\n",
        "plt.show()"
      ],
      "metadata": {
        "_kg_hide-input": true,
        "trusted": true,
        "id": "PDTtIEQRA9aE"
      },
      "execution_count": null,
      "outputs": []
    },
    {
      "cell_type": "markdown",
      "source": [
        "* Only 5% percent of people have Stroke ! \n"
      ],
      "metadata": {
        "id": "A6uqs6oSA9aE"
      }
    },
    {
      "cell_type": "markdown",
      "source": [
        "<h1 style=\"font-family:Georgia;font-size:175%;text-align:left\">Gender</h1>\n"
      ],
      "metadata": {
        "id": "-dUKpxh3A9aF"
      }
    },
    {
      "cell_type": "code",
      "source": [
        "plt.figure(figsize=(10,5))\n",
        "sns.countplot(data=df,x='gender');"
      ],
      "metadata": {
        "_kg_hide-input": true,
        "trusted": true,
        "id": "_XbcwWLgA9aF"
      },
      "execution_count": null,
      "outputs": []
    },
    {
      "cell_type": "markdown",
      "source": [
        "* There is about 1000 diffrence between Female and Male in the data "
      ],
      "metadata": {
        "id": "obiz9z7hA9aG"
      }
    },
    {
      "cell_type": "markdown",
      "source": [
        "\n",
        "<h1 style=\"font-family:Georgia;font-size:175%;text-align:left\">Correlation with avg glucose level</h1>\n",
        "\n",
        "* Visualize some features which maybe have correlation with avg glucose level\n",
        "\n"
      ],
      "metadata": {
        "id": "OoI2JVWkA9aG"
      }
    },
    {
      "cell_type": "code",
      "source": [
        "fig, axes = plt.subplots(nrows=1, ncols=2, figsize=(15, 5))\n",
        "df.plot(kind='scatter', x='age', y='avg_glucose_level', alpha=0.5, color='green', ax=axes[0], title=\"Age vs. avg_glucose_level\")\n",
        "df.plot(kind='scatter', x='bmi', y='avg_glucose_level', alpha=0.5, color='red', ax=axes[1], title=\"bmi vs. avg_glucose_level\")\n",
        "plt.show()"
      ],
      "metadata": {
        "_kg_hide-input": true,
        "trusted": true,
        "id": "5CKlh608A9aG"
      },
      "execution_count": null,
      "outputs": []
    },
    {
      "cell_type": "markdown",
      "source": [
        "* Avg glucose level is high with old people \n",
        "* BMI >40 have low avg glucose"
      ],
      "metadata": {
        "id": "6nrsQqPWA9aH"
      }
    },
    {
      "cell_type": "markdown",
      "source": [
        "<h1 style=\"font-family:Georgia;font-size:175%;text-align:left\">Stroke Or not Pair Grid</h1>"
      ],
      "metadata": {
        "id": "vkXgqA9mA9aI"
      }
    },
    {
      "cell_type": "code",
      "source": [
        "sns.set(style=\"ticks\");\n",
        "pal = [\"#FA5858\", \"#58D3F7\"]\n",
        "\n",
        "sns.pairplot(df, hue=\"stroke\", palette=pal);\n",
        "plt.title(\"stroke\");"
      ],
      "metadata": {
        "_kg_hide-input": true,
        "trusted": true,
        "id": "1Vb7q3MCA9aJ"
      },
      "execution_count": null,
      "outputs": []
    },
    {
      "cell_type": "markdown",
      "source": [
        "<h1 style=\"font-family:Georgia;font-size:175%;text-align:left\">Heatmap Correlation</h1>"
      ],
      "metadata": {
        "id": "d_fw_ZFNA9aK"
      }
    },
    {
      "cell_type": "code",
      "source": [
        "plt.figure(figsize=(15,7))\n",
        "sns.heatmap(df.corr(),annot=True);"
      ],
      "metadata": {
        "_kg_hide-input": true,
        "trusted": true,
        "id": "H3coipBLA9aK"
      },
      "execution_count": null,
      "outputs": []
    },
    {
      "cell_type": "markdown",
      "source": [
        "* There is no correlation between stroke and BMI "
      ],
      "metadata": {
        "id": "is89Mg9nA9aL"
      }
    },
    {
      "cell_type": "markdown",
      "source": [
        "<h1 style=\"font-family:Georgia;font-size:175%;text-align:left\">BMI Boxplot</h1>"
      ],
      "metadata": {
        "id": "b4w5zsd5A9aL"
      }
    },
    {
      "cell_type": "code",
      "source": [
        "plt.figure(figsize=(10,7))\n",
        "sns.boxplot(data=df,x=df[\"bmi\"],color='green');"
      ],
      "metadata": {
        "_kg_hide-input": true,
        "trusted": true,
        "id": "KIQooLfnA9aL"
      },
      "execution_count": null,
      "outputs": []
    },
    {
      "cell_type": "markdown",
      "source": [
        "* we have many outliers but before we fix this we must study BMI first "
      ],
      "metadata": {
        "id": "JS54JMMXA9aL"
      }
    },
    {
      "cell_type": "markdown",
      "source": [
        "<h1 style=\"color:white;background-color:black;font-family:Georgia;font-size:350%;text-align:center\">BMI</h1>\n",
        "\n",
        "\n",
        "* Body mass index is a value derived from the mass and height of a person\n",
        "\n",
        "\n",
        "\n",
        "![](https://i.postimg.cc/kgd3LTBT/ae4498b42e31d75d05e764105a9e981a.jpg)\n"
      ],
      "metadata": {
        "id": "J4c59MmrA9aM"
      }
    },
    {
      "cell_type": "code",
      "source": [
        "bmi_outliers=df.loc[df['bmi']>50]\n",
        "bmi_outliers['bmi'].shape"
      ],
      "metadata": {
        "trusted": true,
        "id": "EKbB0rlpA9aN"
      },
      "execution_count": null,
      "outputs": []
    },
    {
      "cell_type": "code",
      "source": [
        "# mean with outliers \n",
        "print(bmi_outliers['stroke'].value_counts())"
      ],
      "metadata": {
        "trusted": true,
        "id": "rQspo0hsA9aQ"
      },
      "execution_count": null,
      "outputs": []
    },
    {
      "cell_type": "code",
      "source": [
        "df[\"bmi\"] = df[\"bmi\"].apply(lambda x: 50 if x>50 else x)\n",
        "df[\"bmi\"] = df[\"bmi\"].fillna(28.4)"
      ],
      "metadata": {
        "trusted": true,
        "id": "125Lo-qpA9aS"
      },
      "execution_count": null,
      "outputs": []
    },
    {
      "cell_type": "markdown",
      "source": [
        "<h1 style=\"font-family:Georgia;font-size:175%;text-align:left\">Double Check for missing values</h1>"
      ],
      "metadata": {
        "id": "01REw-FmA9aT"
      }
    },
    {
      "cell_type": "code",
      "source": [
        "print (\"\\nMissing values :  \", df.isnull().sum().values.sum())"
      ],
      "metadata": {
        "trusted": true,
        "id": "jh_VFPlUA9aU"
      },
      "execution_count": null,
      "outputs": []
    },
    {
      "cell_type": "markdown",
      "source": [
        "<h1 style=\"font-family:Georgia;font-size:175%;text-align:left\">Stroke or not in Categorical Features</h1>"
      ],
      "metadata": {
        "id": "RQ4rGPlRA9aV"
      }
    },
    {
      "cell_type": "code",
      "source": [
        "cat_df = df[['gender','Residence_type','smoking_status','stroke']]\n",
        "summary = pd.concat([pd.crosstab(cat_df[x], cat_df.stroke) for x in cat_df.columns[:-1]], keys=cat_df.columns[:-1])\n",
        "summary"
      ],
      "metadata": {
        "_kg_hide-input": true,
        "trusted": true,
        "id": "NqJFSaS3A9aV"
      },
      "execution_count": null,
      "outputs": []
    },
    {
      "cell_type": "markdown",
      "source": [
        "<h1 style=\"font-family:Georgia;font-size:175%;text-align:left\">Stroke/Ever Married</h1>"
      ],
      "metadata": {
        "id": "A70NjHN1A9aW"
      }
    },
    {
      "cell_type": "code",
      "source": [
        "plt.figure(figsize=(10,5))\n",
        "strok=df.loc[df['stroke']==1]\n",
        "sns.countplot(data=strok,x='ever_married',palette='inferno');"
      ],
      "metadata": {
        "_kg_hide-input": true,
        "trusted": true,
        "id": "bmrAms5OA9aX"
      },
      "execution_count": null,
      "outputs": []
    },
    {
      "cell_type": "markdown",
      "source": [
        "<h1 style=\"font-family:Arial;font-size:175%;text-align:center\">That was expected, wasn't it 👀</h1> \n",
        "\n",
        "![](https://media.giphy.com/media/AIGA5rzzs4ygo/giphy.gif)"
      ],
      "metadata": {
        "id": "afhiS2C5A9aY"
      }
    },
    {
      "cell_type": "markdown",
      "source": [
        "<h1 style=\"font-family:Georgia;font-size:175%;text-align:left\">Stroke/Work Type</h1>"
      ],
      "metadata": {
        "id": "F0DPY89oA9aa"
      }
    },
    {
      "cell_type": "code",
      "source": [
        "plt.figure(figsize=(10,5))\n",
        "sns.countplot(data=strok,x='work_type',palette='cool');"
      ],
      "metadata": {
        "_kg_hide-input": true,
        "trusted": true,
        "id": "_BNwXuQWA9aa"
      },
      "execution_count": null,
      "outputs": []
    },
    {
      "cell_type": "markdown",
      "source": [
        "* Private work exposes you to more stroke"
      ],
      "metadata": {
        "id": "ilRX9R53A9ab"
      }
    },
    {
      "cell_type": "markdown",
      "source": [
        "<h1 style=\"font-family:Georgia;font-size:175%;text-align:left\">Stroke/Smoking Status</h1>"
      ],
      "metadata": {
        "id": "csCaGDJvA9ab"
      }
    },
    {
      "cell_type": "code",
      "source": [
        "plt.figure(figsize=(10,5))\n",
        "sns.countplot(data=strok,x='smoking_status',palette='autumn');"
      ],
      "metadata": {
        "_kg_hide-input": true,
        "trusted": true,
        "id": "6FKpD0cmA9ab"
      },
      "execution_count": null,
      "outputs": []
    },
    {
      "cell_type": "markdown",
      "source": [
        "* Being a smoker or a formerly smoker increases your risk of having a stroke"
      ],
      "metadata": {
        "id": "7584fQwlA9ab"
      }
    },
    {
      "cell_type": "markdown",
      "source": [
        "<h1 style=\"font-family:Georgia;font-size:175%;text-align:left\">Residence Type</h1>"
      ],
      "metadata": {
        "id": "ZJvMuVHpA9ac"
      }
    },
    {
      "cell_type": "code",
      "source": [
        "plt.figure(figsize=(10,5))\n",
        "sns.countplot(data=strok,x='Residence_type',palette='Greens');"
      ],
      "metadata": {
        "_kg_hide-input": false,
        "trusted": true,
        "id": "GEinDpF9A9ac"
      },
      "execution_count": null,
      "outputs": []
    },
    {
      "cell_type": "markdown",
      "source": [
        "* Residence Type has nothing to do with stroke, We cannot take it as a standard\n"
      ],
      "metadata": {
        "id": "jnSKIgfXA9ae"
      }
    },
    {
      "cell_type": "markdown",
      "source": [
        "<h1 style=\"font-family:Georgia;font-size:175%;text-align:left\">Stroke/Heart Disease</h1>"
      ],
      "metadata": {
        "id": "ukiWBqd4A9af"
      }
    },
    {
      "cell_type": "code",
      "source": [
        "plt.figure(figsize=(10,5))\n",
        "sns.countplot(data=strok,x='heart_disease',palette='Reds');"
      ],
      "metadata": {
        "_kg_hide-input": true,
        "trusted": true,
        "id": "jp1rN5rMA9ag"
      },
      "execution_count": null,
      "outputs": []
    },
    {
      "cell_type": "markdown",
      "source": [
        "* Most people who have had a stroke do not have any heart disease, but that does not prevent it being an influential factor "
      ],
      "metadata": {
        "id": "fTHcqOFcA9ag"
      }
    },
    {
      "cell_type": "code",
      "source": [
        "plt.figure(figsize=(10,5))\n",
        "sns.countplot(data=strok,x='hypertension',palette='Pastel2');"
      ],
      "metadata": {
        "_kg_hide-input": true,
        "trusted": true,
        "id": "7p-0ikzCA9ag"
      },
      "execution_count": null,
      "outputs": []
    },
    {
      "cell_type": "markdown",
      "source": [
        "* more than 25% of strok cases They had hypertension"
      ],
      "metadata": {
        "id": "cQcXGo6gA9ah"
      }
    },
    {
      "cell_type": "markdown",
      "source": [
        "<h1 style=\"background-color:skyblue;font-family:Georgia;font-size:350%;text-align:center\">Notes</h1>\n",
        "\n",
        "* Avg glucose level is high with old people \n",
        "* BMI >40 have low avg glucose\n",
        "* Being unmarried reduces your risk of a stroke\n",
        "* Being a smoker or a formerly smoker increases your risk of having a stroke\n",
        "* more than 25% of strok cases They had hypertension"
      ],
      "metadata": {
        "id": "kjs3Pee-A9ah"
      }
    },
    {
      "cell_type": "markdown",
      "source": [
        "<h1 style=\"background-color:skyblue;font-family:Georgia;font-size:350%;text-align:center\">Data preprocessing</h1>"
      ],
      "metadata": {
        "id": "f6L8yp8cA9ah"
      }
    },
    {
      "cell_type": "markdown",
      "source": [
        "<h1 style=\"font-family:Georgia;font-size:175%;text-align:left\">Encoding Categorical Features</h1>"
      ],
      "metadata": {
        "id": "RmxAR362A9ai"
      }
    },
    {
      "cell_type": "code",
      "source": [
        "df[\"Residence_type\"] = df[\"Residence_type\"].apply(lambda x: 1 if x==\"Urban\" else 0)\n",
        "df[\"ever_married\"] = df[\"ever_married\"].apply(lambda x: 1 if x==\"Yes\" else 0)\n",
        "df[\"gender\"] = df[\"gender\"].apply(lambda x: 1 if x==\"Male\" else 0)\n",
        "\n",
        " \n",
        "df = pd.get_dummies(data=df, columns=['smoking_status'])\n",
        "df = pd.get_dummies(data=df, columns=['work_type'])\n"
      ],
      "metadata": {
        "trusted": true,
        "id": "hCc4BLBJA9ai"
      },
      "execution_count": null,
      "outputs": []
    },
    {
      "cell_type": "code",
      "source": [
        "df"
      ],
      "metadata": {
        "trusted": true,
        "id": "65SA9yIuA9ai"
      },
      "execution_count": null,
      "outputs": []
    },
    {
      "cell_type": "markdown",
      "source": [
        "<h1 style=\"font-family:Georgia;font-size:175%;text-align:left\">Scaling The variance in Features</h1>"
      ],
      "metadata": {
        "id": "rvbStDoFA9ai"
      }
    },
    {
      "cell_type": "code",
      "source": [
        "std=StandardScaler()\n",
        "columns = ['avg_glucose_level','bmi','age']\n",
        "scaled = std.fit_transform(df[['avg_glucose_level','bmi','age']])\n",
        "scaled = pd.DataFrame(scaled,columns=columns)\n",
        "df=df.drop(columns=columns,axis=1)"
      ],
      "metadata": {
        "trusted": true,
        "id": "WcqIa-uIA9aj"
      },
      "execution_count": null,
      "outputs": []
    },
    {
      "cell_type": "code",
      "source": [
        "df=df.merge(scaled, left_index=True, right_index=True, how = \"left\")\n",
        "df"
      ],
      "metadata": {
        "trusted": true,
        "id": "PdPmQ1PGA9aj"
      },
      "execution_count": null,
      "outputs": []
    },
    {
      "cell_type": "markdown",
      "source": [
        "<h1 style=\"font-family:Georgia;font-size:175%;text-align:left\">Drop ID feature and check for nulls</h1>"
      ],
      "metadata": {
        "id": "Ihz1zMG0A9aj"
      }
    },
    {
      "cell_type": "code",
      "source": [
        "df=df.drop(columns='id',axis=1)"
      ],
      "metadata": {
        "trusted": true,
        "id": "ZX1f4eLDA9ak"
      },
      "execution_count": null,
      "outputs": []
    },
    {
      "cell_type": "code",
      "source": [
        "df[df.isnull().any(axis=1)]"
      ],
      "metadata": {
        "trusted": true,
        "id": "tTeEmmrZA9ak"
      },
      "execution_count": null,
      "outputs": []
    },
    {
      "cell_type": "markdown",
      "source": [
        "<h1 style=\"background-color:skyblue;font-family:Georgia;font-size:350%;text-align:center\">Classification Models</h1>"
      ],
      "metadata": {
        "id": "aXLPWxJ8A9ak"
      }
    },
    {
      "cell_type": "markdown",
      "source": [
        "<h1 style=\"font-family:Georgia;font-size:175%;text-align:left\">Target & Features </h1>"
      ],
      "metadata": {
        "id": "NIkELJ2HA9ak"
      }
    },
    {
      "cell_type": "code",
      "source": [
        "X = df.drop(['stroke'], axis=1).values \n",
        "y = df['stroke'].values"
      ],
      "metadata": {
        "trusted": true,
        "id": "RyUWRiHvA9ak"
      },
      "execution_count": null,
      "outputs": []
    },
    {
      "cell_type": "markdown",
      "source": [
        "<h1 style=\"font-family:Georgia;font-size:175%;text-align:left\">Splitting </h1>"
      ],
      "metadata": {
        "id": "FDyNw8DuA9al"
      }
    },
    {
      "cell_type": "code",
      "source": [
        "X_train, X_test, y_train, y_test = train_test_split(X, y, test_size=0.3)"
      ],
      "metadata": {
        "trusted": true,
        "id": "zS_J-KMuA9al"
      },
      "execution_count": null,
      "outputs": []
    },
    {
      "cell_type": "markdown",
      "source": [
        "<h1 style=\"font-family:Georgia;font-size:175%;text-align:left\">adaboost classification </h1>"
      ],
      "metadata": {
        "id": "-0o6M_cCA9al"
      }
    },
    {
      "cell_type": "code",
      "source": [
        "#create adaboost classification obj\n",
        "ab_clf = AdaBoostClassifier(base_estimator=DecisionTreeClassifier(), n_estimators=100, \n",
        "                            learning_rate=0.5, random_state=100)\n",
        "\n",
        "#training via adaboost classficiation model\n",
        "ab_clf.fit(X_train, y_train)\n",
        "print(\"training....\\n\")\n",
        "\n",
        "#make prediction using the test set\n",
        "ab_pred_stroke= ab_clf.predict(X_train)\n",
        "print('prediction: \\n', ab_pred_stroke)\n",
        "\n",
        "print('\\nparms: \\n', ab_clf.get_params)\n",
        "\n",
        "#score\n",
        "ab_clf_score = ab_clf.score(X_test, y_test)\n",
        "print(\"\\nmean accuracy: %.2f\" % ab_clf.score(X_test, y_test))\n",
        "\n",
        "\n"
      ],
      "metadata": {
        "trusted": true,
        "id": "Zm7NZXhOA9am"
      },
      "execution_count": null,
      "outputs": []
    },
    {
      "cell_type": "markdown",
      "source": [
        "<h1 style=\"font-family:Georgia;font-size:175%;text-align:left\">XGboost </h1>"
      ],
      "metadata": {
        "id": "pyqyYhBjA9an"
      }
    },
    {
      "cell_type": "code",
      "source": [
        "\n",
        "xgboost = GradientBoostingClassifier(random_state=0)\n",
        "xgboost.fit(X_train, y_train)\n",
        "#== \n",
        "#Score \n",
        "#== \n",
        "xgboost_score = xgboost.score(X_train, y_train)\n",
        "xgboost_test = xgboost.score(X_test, y_test)\n",
        "#== \n",
        "#testing model \n",
        "#== \n",
        "y_pred = xgboost.predict(X_test)\n",
        "#== \n",
        "#evaluation\n",
        "#== \n",
        "cm = confusion_matrix(y_test,y_pred)\n",
        "print('Training Score',xgboost_score)\n",
        "print('Testing Score \\n',xgboost_test)\n",
        "\n",
        "#=== \n",
        "#Confusion Matrix \n",
        "plt.figure(figsize=(14,5))\n",
        "\n",
        "conf_matrix = pd.DataFrame(data=cm,columns=['Predicted:0','Predicted:1'],index=['Actual:0','Actual:1'])\n",
        "sns.heatmap(conf_matrix, annot=True,fmt='d',cmap=\"Greens\");\n",
        "print(accuracy_score(y_test,y_pred))"
      ],
      "metadata": {
        "trusted": true,
        "id": "-D2DCUT9A9ao"
      },
      "execution_count": null,
      "outputs": []
    },
    {
      "cell_type": "markdown",
      "source": [
        "<h1 style=\"font-family:Georgia;font-size:175%;text-align:left\">SVM </h1>"
      ],
      "metadata": {
        "id": "iiX-Mb1EA9ap"
      }
    },
    {
      "cell_type": "code",
      "source": [
        "\n",
        "svc = SVC(random_state=0)\n",
        "svc.fit(X_train, y_train)\n",
        "#== \n",
        "#Score \n",
        "#== \n",
        "svc_score = svc.score(X_train, y_train)\n",
        "svc_test = svc.score(X_test, y_test)\n",
        "#== \n",
        "#testing model \n",
        "#== \n",
        "y_pred = svc.predict(X_test)\n",
        "#== \n",
        "#evaluation\n",
        "#== \n",
        "cm = confusion_matrix(y_test,y_pred)\n",
        "print('Training Score',svc_score)\n",
        "print('Testing Score \\n',svc_test)\n",
        "print(cm)"
      ],
      "metadata": {
        "trusted": true,
        "id": "wlSUD4YUA9aq"
      },
      "execution_count": null,
      "outputs": []
    },
    {
      "cell_type": "markdown",
      "source": [
        "<h1 style=\"font-family:Georgia;font-size:175%;text-align:left\">Random Forest Classifier</h1>"
      ],
      "metadata": {
        "id": "JChzLnGqA9as"
      }
    },
    {
      "cell_type": "code",
      "source": [
        "forest = RandomForestClassifier(n_estimators = 100)\n",
        "#== \n",
        "forest.fit(X_train, y_train)\n",
        "#== \n",
        "#Score \n",
        "#== \n",
        "forest_score = forest.score(X_train, y_train)\n",
        "forest_test = forest.score(X_test, y_test)\n",
        "#== \n",
        "#testing model \n",
        "#== \n",
        "y_pred = forest.predict(X_test)\n",
        "#== \n",
        "#evaluation\n",
        "#== \n",
        "cm = confusion_matrix(y_test,y_pred)\n",
        "print('Training Score',forest_score)\n",
        "print('Testing Score \\n',forest_test)\n",
        "print(cm)"
      ],
      "metadata": {
        "trusted": true,
        "id": "yPeXUI-bA9as"
      },
      "execution_count": null,
      "outputs": []
    },
    {
      "cell_type": "markdown",
      "source": [
        "<h1 style=\"font-family:Georgia;font-size:175%;text-align:left\">Logistic Regression</h1>"
      ],
      "metadata": {
        "id": "0mwFfI-iA9at"
      }
    },
    {
      "cell_type": "code",
      "source": [
        "model = LogisticRegression()\n",
        "model.fit(X_train, y_train)\n",
        "\n",
        "score = model.score(X_test, y_test)\n",
        "print('Testing Score \\n',score)\n",
        "logistic_score = model.score(X_train, y_train)\n",
        "logistic_test = model.score(X_test, y_test)\n",
        "#== \n",
        "y_pred= model.predict(X_test)\n",
        "print(classification_report(y_test, y_pred))\n",
        "#== \n",
        "cm = confusion_matrix(y_test,y_pred)\n",
        "print(cm)"
      ],
      "metadata": {
        "trusted": true,
        "id": "NU6T6y6rA9at"
      },
      "execution_count": null,
      "outputs": []
    },
    {
      "cell_type": "markdown",
      "source": [
        "<h1 style=\"font-family:Georgia;font-size:175%;text-align:left\">Feature Importance using Logistic Regression</h1>"
      ],
      "metadata": {
        "id": "FaR7RykMA9au"
      }
    },
    {
      "cell_type": "code",
      "source": [
        "coef = model.coef_[0]\n",
        "coef = [abs(number) for number in coef]\n",
        "print(coef)"
      ],
      "metadata": {
        "trusted": true,
        "id": "SKODM6eCA9av"
      },
      "execution_count": null,
      "outputs": []
    },
    {
      "cell_type": "code",
      "source": [
        "cols = list(df.columns)\n",
        "cols.index('stroke')\n",
        "#== \n",
        "#Delete target label \n",
        "#== \n",
        "del cols[5]\n",
        "cols"
      ],
      "metadata": {
        "trusted": true,
        "id": "fo5KkH6zA9av"
      },
      "execution_count": null,
      "outputs": []
    },
    {
      "cell_type": "code",
      "source": [
        "sorted_index = sorted(range(len(coef)), key = lambda k: coef[k], reverse = True)\n",
        "for idx in sorted_index:\n",
        "    print(cols[idx])"
      ],
      "metadata": {
        "trusted": true,
        "id": "6EmDIZcfA9aw"
      },
      "execution_count": null,
      "outputs": []
    },
    {
      "cell_type": "markdown",
      "source": [
        "* Although BMI is considered an indicator for recognizing strokes, there are a large number of values ​​in the normal range and not a high rate that indicates a stroke."
      ],
      "metadata": {
        "id": "TL7R3-J5A9aw"
      }
    },
    {
      "cell_type": "markdown",
      "source": [
        "<h1 style=\"font-family:Georgia;font-size:175%;text-align:left\">MLP NN Classifier</h1>"
      ],
      "metadata": {
        "id": "lyQfjXd5A9ax"
      }
    },
    {
      "cell_type": "code",
      "source": [
        "X = df.drop(['stroke','gender','bmi','Residence_type','work_type_Never_worked','smoking_status_Unknown'], axis=1).values \n",
        "#X = df.drop(['stroke','bmi'], axis=1).values \n",
        "y = df['stroke'].values\n",
        "X_train, X_test, y_train, y_test = train_test_split(X, y, test_size=0.3)\n"
      ],
      "metadata": {
        "trusted": true,
        "id": "wk16q7I9A9ax"
      },
      "execution_count": null,
      "outputs": []
    },
    {
      "cell_type": "code",
      "source": [
        "# mlp = MLPClassifier(hidden_layer_sizes=(1000,300, 300, 300), solver='adam', shuffle=False, tol = 0.0001)\n",
        "mlp=MLPClassifier(hidden_layer_sizes=(300,300,300), max_iter=1000, alpha=0.00001,\n",
        "                     solver='adam', verbose=10,  random_state=21)\n",
        "mlp.fit(X_train, y_train)\n",
        "mlp_pred= mlp.predict(X_test)\n",
        "\n",
        "mlp_score = mlp.score(X_train, y_train)\n",
        "mlp_test = mlp.score(X_test, y_test)\n",
        "\n",
        "\n",
        "y_pred =mlp.predict(X_test)\n",
        "#== \n",
        "#evaluation\n",
        "#== \n",
        "cm = confusion_matrix(y_test,y_pred)\n",
        "print('Training Score',mlp_score)\n",
        "print('Testing Score \\n',mlp_test)\n",
        "print(cm)"
      ],
      "metadata": {
        "trusted": true,
        "id": "QwwQokujA9ax"
      },
      "execution_count": null,
      "outputs": []
    },
    {
      "cell_type": "code",
      "source": [
        "plt.figure(figsize=(14,5))\n",
        "cm = confusion_matrix(y_test,y_pred)\n",
        "conf_matrix = pd.DataFrame(data=cm,columns=['Predicted:0','Predicted:1'],index=['Actual:0','Actual:1'])\n",
        "sns.heatmap(conf_matrix, annot=True,fmt='d',cmap=\"Reds\");"
      ],
      "metadata": {
        "trusted": true,
        "id": "c0IdN-0HA9ax"
      },
      "execution_count": null,
      "outputs": []
    },
    {
      "cell_type": "markdown",
      "source": [
        "<h1 style=\"background-color:skyblue;font-family:Georgia;font-size:350%;text-align:center\">Sensitivity & Specificity</h1>"
      ],
      "metadata": {
        "id": "h8hmU5EgA9ay"
      }
    },
    {
      "cell_type": "markdown",
      "source": [
        "![](https://i.postimg.cc/7L8qgPqB/main-qimg-4e6846605de48c4b372265b47e32ac15.jpg)\n"
      ],
      "metadata": {
        "id": "m5pdRq3gA9ay"
      }
    },
    {
      "cell_type": "code",
      "source": [
        "TN=cm[0,0]\n",
        "TP=cm[1,1]\n",
        "FN=cm[1,0]\n",
        "FP=cm[0,1]\n",
        "sensitivity=TP/float(TP+FN)\n",
        "specificity=TN/float(TN+FP)"
      ],
      "metadata": {
        "trusted": true,
        "id": "oaedabkBA9az"
      },
      "execution_count": null,
      "outputs": []
    },
    {
      "cell_type": "code",
      "source": [
        "print('The acuuracy of the model = TP+TN/(TP+TN+FP+FN) =       ',(TP+TN)/float(TP+TN+FP+FN),'\\n',\n",
        "\n",
        "'The Missclassification = 1-Accuracy =                  ',1-((TP+TN)/float(TP+TN+FP+FN)),'\\n',\n",
        "\n",
        "'Sensitivity or True Positive Rate = TP/(TP+FN) =       ',TP/float(TP+FN),'\\n',\n",
        "\n",
        "'Specificity or True Negative Rate = TN/(TN+FP) =       ',TN/float(TN+FP),'\\n')"
      ],
      "metadata": {
        "trusted": true,
        "id": "dTz_L6A9A9az"
      },
      "execution_count": null,
      "outputs": []
    },
    {
      "cell_type": "markdown",
      "source": [
        "- From the above statistics it is clear that the model is **more highly specific than sensitive**. The negative cases are predicted more accurately than the positives."
      ],
      "metadata": {
        "id": "YW2EAAvGA9a0"
      }
    }
  ]
}